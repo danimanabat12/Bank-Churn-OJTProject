{
 "cells": [
  {
   "cell_type": "code",
   "execution_count": 27,
   "metadata": {},
   "outputs": [
    {
     "name": "stdout",
     "output_type": "stream",
     "text": [
      "The kedro.ipython extension is already loaded. To reload it, use:\n",
      "  %reload_ext kedro.ipython\n"
     ]
    }
   ],
   "source": [
    "%load_ext kedro.ipython"
   ]
  },
  {
   "cell_type": "code",
   "execution_count": 65,
   "metadata": {},
   "outputs": [
    {
     "data": {
      "text/html": [
       "<pre style=\"white-space:pre;overflow-x:auto;line-height:normal;font-family:Menlo,'DejaVu Sans Mono',consolas,'Courier New',monospace\"><span style=\"color: #7fbfbf; text-decoration-color: #7fbfbf\">[03/21/24 14:04:18] </span><span style=\"color: #000080; text-decoration-color: #000080\">INFO    </span> Loading data from <span style=\"color: #ff8700; text-decoration-color: #ff8700\">preprocessed_train_data</span> <span style=\"font-weight: bold\">(</span>ParquetDataset<span style=\"font-weight: bold\">)</span><span style=\"color: #808000; text-decoration-color: #808000\">...</span>      <a href=\"file://c:\\Users\\daniel.manabat\\Work\\side-projects\\.venv\\Lib\\site-packages\\kedro\\io\\data_catalog.py\" target=\"_blank\"><span style=\"color: #7f7f7f; text-decoration-color: #7f7f7f\">data_catalog.py</span></a><span style=\"color: #7f7f7f; text-decoration-color: #7f7f7f\">:</span><a href=\"file://c:\\Users\\daniel.manabat\\Work\\side-projects\\.venv\\Lib\\site-packages\\kedro\\io\\data_catalog.py#483\" target=\"_blank\"><span style=\"color: #7f7f7f; text-decoration-color: #7f7f7f\">483</span></a>\n",
       "</pre>\n"
      ],
      "text/plain": [
       "\u001b[2;36m[03/21/24 14:04:18]\u001b[0m\u001b[2;36m \u001b[0m\u001b[34mINFO    \u001b[0m Loading data from \u001b[38;5;208mpreprocessed_train_data\u001b[0m \u001b[1m(\u001b[0mParquetDataset\u001b[1m)\u001b[0m\u001b[33m...\u001b[0m      \u001b]8;id=532764;file://c:\\Users\\daniel.manabat\\Work\\side-projects\\.venv\\Lib\\site-packages\\kedro\\io\\data_catalog.py\u001b\\\u001b[2mdata_catalog.py\u001b[0m\u001b]8;;\u001b\\\u001b[2m:\u001b[0m\u001b]8;id=115640;file://c:\\Users\\daniel.manabat\\Work\\side-projects\\.venv\\Lib\\site-packages\\kedro\\io\\data_catalog.py#483\u001b\\\u001b[2m483\u001b[0m\u001b]8;;\u001b\\\n"
      ]
     },
     "metadata": {},
     "output_type": "display_data"
    }
   ],
   "source": [
    "df = catalog.load(\"preprocessed_train_data\")"
   ]
  },
  {
   "cell_type": "code",
   "execution_count": 66,
   "metadata": {},
   "outputs": [],
   "source": [
    "df[\"Gender\"] = df[\"Gender\"] == \"Female\""
   ]
  },
  {
   "cell_type": "code",
   "execution_count": 67,
   "metadata": {},
   "outputs": [],
   "source": [
    "df = pd.get_dummies(df, columns=['Geography'])"
   ]
  },
  {
   "cell_type": "code",
   "execution_count": 49,
   "metadata": {},
   "outputs": [
    {
     "data": {
      "text/html": [
       "<pre style=\"white-space:pre;overflow-x:auto;line-height:normal;font-family:Menlo,'DejaVu Sans Mono',consolas,'Courier New',monospace\"></pre>\n"
      ],
      "text/plain": []
     },
     "metadata": {},
     "output_type": "display_data"
    },
    {
     "data": {
      "text/html": [
       "<div>\n",
       "<style scoped>\n",
       "    .dataframe tbody tr th:only-of-type {\n",
       "        vertical-align: middle;\n",
       "    }\n",
       "\n",
       "    .dataframe tbody tr th {\n",
       "        vertical-align: top;\n",
       "    }\n",
       "\n",
       "    .dataframe thead th {\n",
       "        text-align: right;\n",
       "    }\n",
       "</style>\n",
       "<table border=\"1\" class=\"dataframe\">\n",
       "  <thead>\n",
       "    <tr style=\"text-align: right;\">\n",
       "      <th></th>\n",
       "      <th>CreditScore</th>\n",
       "      <th>Gender</th>\n",
       "      <th>Age</th>\n",
       "      <th>Tenure</th>\n",
       "      <th>Balance</th>\n",
       "      <th>NumOfProducts</th>\n",
       "      <th>HasCrCard</th>\n",
       "      <th>IsActiveMember</th>\n",
       "      <th>EstimatedSalary</th>\n",
       "      <th>Exited</th>\n",
       "      <th>Geography_France</th>\n",
       "      <th>Geography_Germany</th>\n",
       "      <th>Geography_Spain</th>\n",
       "    </tr>\n",
       "  </thead>\n",
       "  <tbody>\n",
       "    <tr>\n",
       "      <th>0</th>\n",
       "      <td>668.0</td>\n",
       "      <td>0</td>\n",
       "      <td>33.0</td>\n",
       "      <td>3.0</td>\n",
       "      <td>0.00</td>\n",
       "      <td>2.0</td>\n",
       "      <td>1.0</td>\n",
       "      <td>0.0</td>\n",
       "      <td>181449.97</td>\n",
       "      <td>0.0</td>\n",
       "      <td>True</td>\n",
       "      <td>False</td>\n",
       "      <td>False</td>\n",
       "    </tr>\n",
       "    <tr>\n",
       "      <th>1</th>\n",
       "      <td>627.0</td>\n",
       "      <td>0</td>\n",
       "      <td>33.0</td>\n",
       "      <td>1.0</td>\n",
       "      <td>0.00</td>\n",
       "      <td>2.0</td>\n",
       "      <td>1.0</td>\n",
       "      <td>1.0</td>\n",
       "      <td>49503.50</td>\n",
       "      <td>0.0</td>\n",
       "      <td>True</td>\n",
       "      <td>False</td>\n",
       "      <td>False</td>\n",
       "    </tr>\n",
       "    <tr>\n",
       "      <th>2</th>\n",
       "      <td>678.0</td>\n",
       "      <td>0</td>\n",
       "      <td>40.0</td>\n",
       "      <td>10.0</td>\n",
       "      <td>0.00</td>\n",
       "      <td>2.0</td>\n",
       "      <td>1.0</td>\n",
       "      <td>0.0</td>\n",
       "      <td>184866.69</td>\n",
       "      <td>0.0</td>\n",
       "      <td>True</td>\n",
       "      <td>False</td>\n",
       "      <td>False</td>\n",
       "    </tr>\n",
       "    <tr>\n",
       "      <th>3</th>\n",
       "      <td>581.0</td>\n",
       "      <td>0</td>\n",
       "      <td>34.0</td>\n",
       "      <td>2.0</td>\n",
       "      <td>148882.54</td>\n",
       "      <td>1.0</td>\n",
       "      <td>1.0</td>\n",
       "      <td>1.0</td>\n",
       "      <td>84560.88</td>\n",
       "      <td>0.0</td>\n",
       "      <td>True</td>\n",
       "      <td>False</td>\n",
       "      <td>False</td>\n",
       "    </tr>\n",
       "    <tr>\n",
       "      <th>4</th>\n",
       "      <td>716.0</td>\n",
       "      <td>0</td>\n",
       "      <td>33.0</td>\n",
       "      <td>5.0</td>\n",
       "      <td>0.00</td>\n",
       "      <td>2.0</td>\n",
       "      <td>1.0</td>\n",
       "      <td>1.0</td>\n",
       "      <td>15068.83</td>\n",
       "      <td>0.0</td>\n",
       "      <td>False</td>\n",
       "      <td>False</td>\n",
       "      <td>True</td>\n",
       "    </tr>\n",
       "  </tbody>\n",
       "</table>\n",
       "</div>"
      ],
      "text/plain": [
       "\n",
       "   CreditScore  Gender   Age  Tenure    Balance  NumOfProducts  HasCrCard  \\\n",
       "\u001b[1;36m0\u001b[0m        \u001b[1;36m668.0\u001b[0m       \u001b[1;36m0\u001b[0m  \u001b[1;36m33.0\u001b[0m     \u001b[1;36m3.0\u001b[0m       \u001b[1;36m0.00\u001b[0m            \u001b[1;36m2.0\u001b[0m        \u001b[1;36m1.0\u001b[0m   \n",
       "\u001b[1;36m1\u001b[0m        \u001b[1;36m627.0\u001b[0m       \u001b[1;36m0\u001b[0m  \u001b[1;36m33.0\u001b[0m     \u001b[1;36m1.0\u001b[0m       \u001b[1;36m0.00\u001b[0m            \u001b[1;36m2.0\u001b[0m        \u001b[1;36m1.0\u001b[0m   \n",
       "\u001b[1;36m2\u001b[0m        \u001b[1;36m678.0\u001b[0m       \u001b[1;36m0\u001b[0m  \u001b[1;36m40.0\u001b[0m    \u001b[1;36m10.0\u001b[0m       \u001b[1;36m0.00\u001b[0m            \u001b[1;36m2.0\u001b[0m        \u001b[1;36m1.0\u001b[0m   \n",
       "\u001b[1;36m3\u001b[0m        \u001b[1;36m581.0\u001b[0m       \u001b[1;36m0\u001b[0m  \u001b[1;36m34.0\u001b[0m     \u001b[1;36m2.0\u001b[0m  \u001b[1;36m148882.54\u001b[0m            \u001b[1;36m1.0\u001b[0m        \u001b[1;36m1.0\u001b[0m   \n",
       "\u001b[1;36m4\u001b[0m        \u001b[1;36m716.0\u001b[0m       \u001b[1;36m0\u001b[0m  \u001b[1;36m33.0\u001b[0m     \u001b[1;36m5.0\u001b[0m       \u001b[1;36m0.00\u001b[0m            \u001b[1;36m2.0\u001b[0m        \u001b[1;36m1.0\u001b[0m   \n",
       "\n",
       "   IsActiveMember  EstimatedSalary  Exited  Geography_France  \\\n",
       "\u001b[1;36m0\u001b[0m             \u001b[1;36m0.0\u001b[0m        \u001b[1;36m181449.97\u001b[0m     \u001b[1;36m0.0\u001b[0m              \u001b[3;92mTrue\u001b[0m   \n",
       "\u001b[1;36m1\u001b[0m             \u001b[1;36m1.0\u001b[0m         \u001b[1;36m49503.50\u001b[0m     \u001b[1;36m0.0\u001b[0m              \u001b[3;92mTrue\u001b[0m   \n",
       "\u001b[1;36m2\u001b[0m             \u001b[1;36m0.0\u001b[0m        \u001b[1;36m184866.69\u001b[0m     \u001b[1;36m0.0\u001b[0m              \u001b[3;92mTrue\u001b[0m   \n",
       "\u001b[1;36m3\u001b[0m             \u001b[1;36m1.0\u001b[0m         \u001b[1;36m84560.88\u001b[0m     \u001b[1;36m0.0\u001b[0m              \u001b[3;92mTrue\u001b[0m   \n",
       "\u001b[1;36m4\u001b[0m             \u001b[1;36m1.0\u001b[0m         \u001b[1;36m15068.83\u001b[0m     \u001b[1;36m0.0\u001b[0m             \u001b[3;91mFalse\u001b[0m   \n",
       "\n",
       "   Geography_Germany  Geography_Spain  \n",
       "\u001b[1;36m0\u001b[0m              \u001b[3;91mFalse\u001b[0m            \u001b[3;91mFalse\u001b[0m  \n",
       "\u001b[1;36m1\u001b[0m              \u001b[3;91mFalse\u001b[0m            \u001b[3;91mFalse\u001b[0m  \n",
       "\u001b[1;36m2\u001b[0m              \u001b[3;91mFalse\u001b[0m            \u001b[3;91mFalse\u001b[0m  \n",
       "\u001b[1;36m3\u001b[0m              \u001b[3;91mFalse\u001b[0m            \u001b[3;91mFalse\u001b[0m  \n",
       "\u001b[1;36m4\u001b[0m              \u001b[3;91mFalse\u001b[0m             \u001b[3;92mTrue\u001b[0m  "
      ]
     },
     "execution_count": 49,
     "metadata": {},
     "output_type": "execute_result"
    }
   ],
   "source": [
    "df.head()"
   ]
  },
  {
   "cell_type": "code",
   "execution_count": 68,
   "metadata": {},
   "outputs": [
    {
     "data": {
      "text/html": [
       "<pre style=\"white-space:pre;overflow-x:auto;line-height:normal;font-family:Menlo,'DejaVu Sans Mono',consolas,'Courier New',monospace\"></pre>\n"
      ],
      "text/plain": []
     },
     "metadata": {},
     "output_type": "display_data"
    },
    {
     "data": {
      "text/plain": [
       "\n",
       "CreditScore          float64\n",
       "Gender                  bool\n",
       "Age                  float64\n",
       "Tenure               float64\n",
       "Balance              float64\n",
       "NumOfProducts        float64\n",
       "HasCrCard            float64\n",
       "IsActiveMember       float64\n",
       "EstimatedSalary      float64\n",
       "Exited               float64\n",
       "Geography_France        bool\n",
       "Geography_Germany       bool\n",
       "Geography_Spain         bool\n",
       "dtype: object"
      ]
     },
     "execution_count": 68,
     "metadata": {},
     "output_type": "execute_result"
    }
   ],
   "source": [
    "df.dtypes"
   ]
  },
  {
   "cell_type": "code",
   "execution_count": 69,
   "metadata": {},
   "outputs": [],
   "source": [
    "bool_cols = [column for column in df.columns if df[column].dtype == bool]"
   ]
  },
  {
   "cell_type": "code",
   "execution_count": 70,
   "metadata": {},
   "outputs": [],
   "source": [
    "df[bool_cols] = df[bool_cols].astype(int)"
   ]
  },
  {
   "cell_type": "code",
   "execution_count": 71,
   "metadata": {},
   "outputs": [
    {
     "data": {
      "text/html": [
       "<pre style=\"white-space:pre;overflow-x:auto;line-height:normal;font-family:Menlo,'DejaVu Sans Mono',consolas,'Courier New',monospace\"></pre>\n"
      ],
      "text/plain": []
     },
     "metadata": {},
     "output_type": "display_data"
    },
    {
     "data": {
      "text/html": [
       "<div>\n",
       "<style scoped>\n",
       "    .dataframe tbody tr th:only-of-type {\n",
       "        vertical-align: middle;\n",
       "    }\n",
       "\n",
       "    .dataframe tbody tr th {\n",
       "        vertical-align: top;\n",
       "    }\n",
       "\n",
       "    .dataframe thead th {\n",
       "        text-align: right;\n",
       "    }\n",
       "</style>\n",
       "<table border=\"1\" class=\"dataframe\">\n",
       "  <thead>\n",
       "    <tr style=\"text-align: right;\">\n",
       "      <th></th>\n",
       "      <th>CreditScore</th>\n",
       "      <th>Gender</th>\n",
       "      <th>Age</th>\n",
       "      <th>Tenure</th>\n",
       "      <th>Balance</th>\n",
       "      <th>NumOfProducts</th>\n",
       "      <th>HasCrCard</th>\n",
       "      <th>IsActiveMember</th>\n",
       "      <th>EstimatedSalary</th>\n",
       "      <th>Exited</th>\n",
       "      <th>Geography_France</th>\n",
       "      <th>Geography_Germany</th>\n",
       "      <th>Geography_Spain</th>\n",
       "    </tr>\n",
       "  </thead>\n",
       "  <tbody>\n",
       "    <tr>\n",
       "      <th>0</th>\n",
       "      <td>668.0</td>\n",
       "      <td>0</td>\n",
       "      <td>33.0</td>\n",
       "      <td>3.0</td>\n",
       "      <td>0.00</td>\n",
       "      <td>2.0</td>\n",
       "      <td>1.0</td>\n",
       "      <td>0.0</td>\n",
       "      <td>181449.97</td>\n",
       "      <td>0.0</td>\n",
       "      <td>1</td>\n",
       "      <td>0</td>\n",
       "      <td>0</td>\n",
       "    </tr>\n",
       "    <tr>\n",
       "      <th>1</th>\n",
       "      <td>627.0</td>\n",
       "      <td>0</td>\n",
       "      <td>33.0</td>\n",
       "      <td>1.0</td>\n",
       "      <td>0.00</td>\n",
       "      <td>2.0</td>\n",
       "      <td>1.0</td>\n",
       "      <td>1.0</td>\n",
       "      <td>49503.50</td>\n",
       "      <td>0.0</td>\n",
       "      <td>1</td>\n",
       "      <td>0</td>\n",
       "      <td>0</td>\n",
       "    </tr>\n",
       "    <tr>\n",
       "      <th>2</th>\n",
       "      <td>678.0</td>\n",
       "      <td>0</td>\n",
       "      <td>40.0</td>\n",
       "      <td>10.0</td>\n",
       "      <td>0.00</td>\n",
       "      <td>2.0</td>\n",
       "      <td>1.0</td>\n",
       "      <td>0.0</td>\n",
       "      <td>184866.69</td>\n",
       "      <td>0.0</td>\n",
       "      <td>1</td>\n",
       "      <td>0</td>\n",
       "      <td>0</td>\n",
       "    </tr>\n",
       "    <tr>\n",
       "      <th>3</th>\n",
       "      <td>581.0</td>\n",
       "      <td>0</td>\n",
       "      <td>34.0</td>\n",
       "      <td>2.0</td>\n",
       "      <td>148882.54</td>\n",
       "      <td>1.0</td>\n",
       "      <td>1.0</td>\n",
       "      <td>1.0</td>\n",
       "      <td>84560.88</td>\n",
       "      <td>0.0</td>\n",
       "      <td>1</td>\n",
       "      <td>0</td>\n",
       "      <td>0</td>\n",
       "    </tr>\n",
       "    <tr>\n",
       "      <th>4</th>\n",
       "      <td>716.0</td>\n",
       "      <td>0</td>\n",
       "      <td>33.0</td>\n",
       "      <td>5.0</td>\n",
       "      <td>0.00</td>\n",
       "      <td>2.0</td>\n",
       "      <td>1.0</td>\n",
       "      <td>1.0</td>\n",
       "      <td>15068.83</td>\n",
       "      <td>0.0</td>\n",
       "      <td>0</td>\n",
       "      <td>0</td>\n",
       "      <td>1</td>\n",
       "    </tr>\n",
       "  </tbody>\n",
       "</table>\n",
       "</div>"
      ],
      "text/plain": [
       "\n",
       "   CreditScore  Gender   Age  Tenure    Balance  NumOfProducts  HasCrCard  \\\n",
       "\u001b[1;36m0\u001b[0m        \u001b[1;36m668.0\u001b[0m       \u001b[1;36m0\u001b[0m  \u001b[1;36m33.0\u001b[0m     \u001b[1;36m3.0\u001b[0m       \u001b[1;36m0.00\u001b[0m            \u001b[1;36m2.0\u001b[0m        \u001b[1;36m1.0\u001b[0m   \n",
       "\u001b[1;36m1\u001b[0m        \u001b[1;36m627.0\u001b[0m       \u001b[1;36m0\u001b[0m  \u001b[1;36m33.0\u001b[0m     \u001b[1;36m1.0\u001b[0m       \u001b[1;36m0.00\u001b[0m            \u001b[1;36m2.0\u001b[0m        \u001b[1;36m1.0\u001b[0m   \n",
       "\u001b[1;36m2\u001b[0m        \u001b[1;36m678.0\u001b[0m       \u001b[1;36m0\u001b[0m  \u001b[1;36m40.0\u001b[0m    \u001b[1;36m10.0\u001b[0m       \u001b[1;36m0.00\u001b[0m            \u001b[1;36m2.0\u001b[0m        \u001b[1;36m1.0\u001b[0m   \n",
       "\u001b[1;36m3\u001b[0m        \u001b[1;36m581.0\u001b[0m       \u001b[1;36m0\u001b[0m  \u001b[1;36m34.0\u001b[0m     \u001b[1;36m2.0\u001b[0m  \u001b[1;36m148882.54\u001b[0m            \u001b[1;36m1.0\u001b[0m        \u001b[1;36m1.0\u001b[0m   \n",
       "\u001b[1;36m4\u001b[0m        \u001b[1;36m716.0\u001b[0m       \u001b[1;36m0\u001b[0m  \u001b[1;36m33.0\u001b[0m     \u001b[1;36m5.0\u001b[0m       \u001b[1;36m0.00\u001b[0m            \u001b[1;36m2.0\u001b[0m        \u001b[1;36m1.0\u001b[0m   \n",
       "\n",
       "   IsActiveMember  EstimatedSalary  Exited  Geography_France  \\\n",
       "\u001b[1;36m0\u001b[0m             \u001b[1;36m0.0\u001b[0m        \u001b[1;36m181449.97\u001b[0m     \u001b[1;36m0.0\u001b[0m                 \u001b[1;36m1\u001b[0m   \n",
       "\u001b[1;36m1\u001b[0m             \u001b[1;36m1.0\u001b[0m         \u001b[1;36m49503.50\u001b[0m     \u001b[1;36m0.0\u001b[0m                 \u001b[1;36m1\u001b[0m   \n",
       "\u001b[1;36m2\u001b[0m             \u001b[1;36m0.0\u001b[0m        \u001b[1;36m184866.69\u001b[0m     \u001b[1;36m0.0\u001b[0m                 \u001b[1;36m1\u001b[0m   \n",
       "\u001b[1;36m3\u001b[0m             \u001b[1;36m1.0\u001b[0m         \u001b[1;36m84560.88\u001b[0m     \u001b[1;36m0.0\u001b[0m                 \u001b[1;36m1\u001b[0m   \n",
       "\u001b[1;36m4\u001b[0m             \u001b[1;36m1.0\u001b[0m         \u001b[1;36m15068.83\u001b[0m     \u001b[1;36m0.0\u001b[0m                 \u001b[1;36m0\u001b[0m   \n",
       "\n",
       "   Geography_Germany  Geography_Spain  \n",
       "\u001b[1;36m0\u001b[0m                  \u001b[1;36m0\u001b[0m                \u001b[1;36m0\u001b[0m  \n",
       "\u001b[1;36m1\u001b[0m                  \u001b[1;36m0\u001b[0m                \u001b[1;36m0\u001b[0m  \n",
       "\u001b[1;36m2\u001b[0m                  \u001b[1;36m0\u001b[0m                \u001b[1;36m0\u001b[0m  \n",
       "\u001b[1;36m3\u001b[0m                  \u001b[1;36m0\u001b[0m                \u001b[1;36m0\u001b[0m  \n",
       "\u001b[1;36m4\u001b[0m                  \u001b[1;36m0\u001b[0m                \u001b[1;36m1\u001b[0m  "
      ]
     },
     "execution_count": 71,
     "metadata": {},
     "output_type": "execute_result"
    }
   ],
   "source": [
    "df.head()"
   ]
  },
  {
   "cell_type": "code",
   "execution_count": 72,
   "metadata": {},
   "outputs": [],
   "source": [
    "def feature_encoding(df: pd.DataFrame) -> pd.DataFrame: \n",
    "    df[\"Gender\"] = df[\"Gender\"] == \"Female\"\n",
    "    df = pd.get_dummies(df, columns=['Geography'])\n",
    "    bool_cols = [column for column in df.columns if df[column].dtype == bool]\n",
    "    df[bool_cols] = df[bool_cols].astype(int)\n",
    "\n",
    "    return df"
   ]
  },
  {
   "cell_type": "code",
   "execution_count": 73,
   "metadata": {},
   "outputs": [
    {
     "data": {
      "text/html": [
       "<pre style=\"white-space:pre;overflow-x:auto;line-height:normal;font-family:Menlo,'DejaVu Sans Mono',consolas,'Courier New',monospace\"><span style=\"color: #7fbfbf; text-decoration-color: #7fbfbf\">[03/21/24 14:14:46] </span><span style=\"color: #000080; text-decoration-color: #000080\">INFO    </span> Loading data from <span style=\"color: #ff8700; text-decoration-color: #ff8700\">preprocessed_train_data</span> <span style=\"font-weight: bold\">(</span>ParquetDataset<span style=\"font-weight: bold\">)</span><span style=\"color: #808000; text-decoration-color: #808000\">...</span>      <a href=\"file://c:\\Users\\daniel.manabat\\Work\\side-projects\\.venv\\Lib\\site-packages\\kedro\\io\\data_catalog.py\" target=\"_blank\"><span style=\"color: #7f7f7f; text-decoration-color: #7f7f7f\">data_catalog.py</span></a><span style=\"color: #7f7f7f; text-decoration-color: #7f7f7f\">:</span><a href=\"file://c:\\Users\\daniel.manabat\\Work\\side-projects\\.venv\\Lib\\site-packages\\kedro\\io\\data_catalog.py#483\" target=\"_blank\"><span style=\"color: #7f7f7f; text-decoration-color: #7f7f7f\">483</span></a>\n",
       "</pre>\n"
      ],
      "text/plain": [
       "\u001b[2;36m[03/21/24 14:14:46]\u001b[0m\u001b[2;36m \u001b[0m\u001b[34mINFO    \u001b[0m Loading data from \u001b[38;5;208mpreprocessed_train_data\u001b[0m \u001b[1m(\u001b[0mParquetDataset\u001b[1m)\u001b[0m\u001b[33m...\u001b[0m      \u001b]8;id=617575;file://c:\\Users\\daniel.manabat\\Work\\side-projects\\.venv\\Lib\\site-packages\\kedro\\io\\data_catalog.py\u001b\\\u001b[2mdata_catalog.py\u001b[0m\u001b]8;;\u001b\\\u001b[2m:\u001b[0m\u001b]8;id=364830;file://c:\\Users\\daniel.manabat\\Work\\side-projects\\.venv\\Lib\\site-packages\\kedro\\io\\data_catalog.py#483\u001b\\\u001b[2m483\u001b[0m\u001b]8;;\u001b\\\n"
      ]
     },
     "metadata": {},
     "output_type": "display_data"
    }
   ],
   "source": [
    "df = catalog.load(\"preprocessed_train_data\")"
   ]
  },
  {
   "cell_type": "code",
   "execution_count": 77,
   "metadata": {},
   "outputs": [
    {
     "data": {
      "text/html": [
       "<pre style=\"white-space:pre;overflow-x:auto;line-height:normal;font-family:Menlo,'DejaVu Sans Mono',consolas,'Courier New',monospace\"><span style=\"color: #800000; text-decoration-color: #800000\">╭─────────────────────────────── </span><span style=\"color: #800000; text-decoration-color: #800000; font-weight: bold\">Traceback </span><span style=\"color: #bf7f7f; text-decoration-color: #bf7f7f; font-weight: bold\">(most recent call last)</span><span style=\"color: #800000; text-decoration-color: #800000\"> ────────────────────────────────╮</span>\n",
       "<span style=\"color: #800000; text-decoration-color: #800000\">│</span> in <span style=\"color: #00ff00; text-decoration-color: #00ff00\">&lt;module&gt;</span>:<span style=\"color: #0000ff; text-decoration-color: #0000ff\">1</span>                                                                                    <span style=\"color: #800000; text-decoration-color: #800000\">│</span>\n",
       "<span style=\"color: #800000; text-decoration-color: #800000\">│</span>                                                                                                  <span style=\"color: #800000; text-decoration-color: #800000\">│</span>\n",
       "<span style=\"color: #800000; text-decoration-color: #800000\">│</span> <span style=\"color: #800000; text-decoration-color: #800000\">❱ </span>1 df = catalog.load()                                                                          <span style=\"color: #800000; text-decoration-color: #800000\">│</span>\n",
       "<span style=\"color: #800000; text-decoration-color: #800000\">│</span>   <span style=\"color: #7f7f7f; text-decoration-color: #7f7f7f\">2 </span>                                                                                             <span style=\"color: #800000; text-decoration-color: #800000\">│</span>\n",
       "<span style=\"color: #800000; text-decoration-color: #800000\">╰──────────────────────────────────────────────────────────────────────────────────────────────────╯</span>\n",
       "<span style=\"color: #ff0000; text-decoration-color: #ff0000; font-weight: bold\">TypeError: </span><span style=\"color: #800080; text-decoration-color: #800080; font-weight: bold\">DataCatalog.load</span><span style=\"font-weight: bold\">()</span> missing <span style=\"color: #008080; text-decoration-color: #008080; font-weight: bold\">1</span> required positional argument: <span style=\"color: #008000; text-decoration-color: #008000\">'name'</span>\n",
       "</pre>\n"
      ],
      "text/plain": [
       "\u001b[31m╭─\u001b[0m\u001b[31m──────────────────────────────\u001b[0m\u001b[31m \u001b[0m\u001b[1;31mTraceback \u001b[0m\u001b[1;2;31m(most recent call last)\u001b[0m\u001b[31m \u001b[0m\u001b[31m───────────────────────────────\u001b[0m\u001b[31m─╮\u001b[0m\n",
       "\u001b[31m│\u001b[0m in \u001b[92m<module>\u001b[0m:\u001b[94m1\u001b[0m                                                                                    \u001b[31m│\u001b[0m\n",
       "\u001b[31m│\u001b[0m                                                                                                  \u001b[31m│\u001b[0m\n",
       "\u001b[31m│\u001b[0m \u001b[31m❱ \u001b[0m1 df = catalog.load()                                                                          \u001b[31m│\u001b[0m\n",
       "\u001b[31m│\u001b[0m   \u001b[2m2 \u001b[0m                                                                                             \u001b[31m│\u001b[0m\n",
       "\u001b[31m╰──────────────────────────────────────────────────────────────────────────────────────────────────╯\u001b[0m\n",
       "\u001b[1;91mTypeError: \u001b[0m\u001b[1;35mDataCatalog.load\u001b[0m\u001b[1m(\u001b[0m\u001b[1m)\u001b[0m missing \u001b[1;36m1\u001b[0m required positional argument: \u001b[32m'name'\u001b[0m\n"
      ]
     },
     "metadata": {},
     "output_type": "display_data"
    }
   ],
   "source": [
    "df = catalog.load()"
   ]
  },
  {
   "cell_type": "code",
   "execution_count": 28,
   "metadata": {},
   "outputs": [
    {
     "data": {
      "text/html": [
       "<pre style=\"white-space:pre;overflow-x:auto;line-height:normal;font-family:Menlo,'DejaVu Sans Mono',consolas,'Courier New',monospace\"><span style=\"color: #7fbfbf; text-decoration-color: #7fbfbf\">[03/22/24 14:36:31] </span><span style=\"color: #000080; text-decoration-color: #000080\">INFO    </span> Loading data from <span style=\"color: #ff8700; text-decoration-color: #ff8700\">engineered_train_data</span> <span style=\"font-weight: bold\">(</span>ParquetDataset<span style=\"font-weight: bold\">)</span><span style=\"color: #808000; text-decoration-color: #808000\">...</span>        <a href=\"file://c:\\Users\\daniel.manabat\\Work\\side-projects\\.venv\\Lib\\site-packages\\kedro\\io\\data_catalog.py\" target=\"_blank\"><span style=\"color: #7f7f7f; text-decoration-color: #7f7f7f\">data_catalog.py</span></a><span style=\"color: #7f7f7f; text-decoration-color: #7f7f7f\">:</span><a href=\"file://c:\\Users\\daniel.manabat\\Work\\side-projects\\.venv\\Lib\\site-packages\\kedro\\io\\data_catalog.py#483\" target=\"_blank\"><span style=\"color: #7f7f7f; text-decoration-color: #7f7f7f\">483</span></a>\n",
       "</pre>\n"
      ],
      "text/plain": [
       "\u001b[2;36m[03/22/24 14:36:31]\u001b[0m\u001b[2;36m \u001b[0m\u001b[34mINFO    \u001b[0m Loading data from \u001b[38;5;208mengineered_train_data\u001b[0m \u001b[1m(\u001b[0mParquetDataset\u001b[1m)\u001b[0m\u001b[33m...\u001b[0m        \u001b]8;id=905479;file://c:\\Users\\daniel.manabat\\Work\\side-projects\\.venv\\Lib\\site-packages\\kedro\\io\\data_catalog.py\u001b\\\u001b[2mdata_catalog.py\u001b[0m\u001b]8;;\u001b\\\u001b[2m:\u001b[0m\u001b]8;id=540712;file://c:\\Users\\daniel.manabat\\Work\\side-projects\\.venv\\Lib\\site-packages\\kedro\\io\\data_catalog.py#483\u001b\\\u001b[2m483\u001b[0m\u001b]8;;\u001b\\\n"
      ]
     },
     "metadata": {},
     "output_type": "display_data"
    }
   ],
   "source": [
    "df = catalog.load(\"engineered_train_data\")"
   ]
  },
  {
   "cell_type": "code",
   "execution_count": 3,
   "metadata": {},
   "outputs": [
    {
     "data": {
      "text/html": [
       "<pre style=\"white-space:pre;overflow-x:auto;line-height:normal;font-family:Menlo,'DejaVu Sans Mono',consolas,'Courier New',monospace\"></pre>\n"
      ],
      "text/plain": []
     },
     "metadata": {},
     "output_type": "display_data"
    },
    {
     "data": {
      "text/html": [
       "<div>\n",
       "<style scoped>\n",
       "    .dataframe tbody tr th:only-of-type {\n",
       "        vertical-align: middle;\n",
       "    }\n",
       "\n",
       "    .dataframe tbody tr th {\n",
       "        vertical-align: top;\n",
       "    }\n",
       "\n",
       "    .dataframe thead th {\n",
       "        text-align: right;\n",
       "    }\n",
       "</style>\n",
       "<table border=\"1\" class=\"dataframe\">\n",
       "  <thead>\n",
       "    <tr style=\"text-align: right;\">\n",
       "      <th></th>\n",
       "      <th>CreditScore</th>\n",
       "      <th>Gender</th>\n",
       "      <th>Age</th>\n",
       "      <th>Tenure</th>\n",
       "      <th>Balance</th>\n",
       "      <th>NumOfProducts</th>\n",
       "      <th>HasCrCard</th>\n",
       "      <th>IsActiveMember</th>\n",
       "      <th>EstimatedSalary</th>\n",
       "      <th>Exited</th>\n",
       "      <th>Geography_France</th>\n",
       "      <th>Geography_Germany</th>\n",
       "      <th>Geography_Spain</th>\n",
       "    </tr>\n",
       "  </thead>\n",
       "  <tbody>\n",
       "    <tr>\n",
       "      <th>0</th>\n",
       "      <td>668.0</td>\n",
       "      <td>0</td>\n",
       "      <td>33.0</td>\n",
       "      <td>3.0</td>\n",
       "      <td>0.00</td>\n",
       "      <td>2.0</td>\n",
       "      <td>1.0</td>\n",
       "      <td>0.0</td>\n",
       "      <td>181449.97</td>\n",
       "      <td>0.0</td>\n",
       "      <td>1</td>\n",
       "      <td>0</td>\n",
       "      <td>0</td>\n",
       "    </tr>\n",
       "    <tr>\n",
       "      <th>1</th>\n",
       "      <td>627.0</td>\n",
       "      <td>0</td>\n",
       "      <td>33.0</td>\n",
       "      <td>1.0</td>\n",
       "      <td>0.00</td>\n",
       "      <td>2.0</td>\n",
       "      <td>1.0</td>\n",
       "      <td>1.0</td>\n",
       "      <td>49503.50</td>\n",
       "      <td>0.0</td>\n",
       "      <td>1</td>\n",
       "      <td>0</td>\n",
       "      <td>0</td>\n",
       "    </tr>\n",
       "    <tr>\n",
       "      <th>2</th>\n",
       "      <td>678.0</td>\n",
       "      <td>0</td>\n",
       "      <td>40.0</td>\n",
       "      <td>10.0</td>\n",
       "      <td>0.00</td>\n",
       "      <td>2.0</td>\n",
       "      <td>1.0</td>\n",
       "      <td>0.0</td>\n",
       "      <td>184866.69</td>\n",
       "      <td>0.0</td>\n",
       "      <td>1</td>\n",
       "      <td>0</td>\n",
       "      <td>0</td>\n",
       "    </tr>\n",
       "    <tr>\n",
       "      <th>3</th>\n",
       "      <td>581.0</td>\n",
       "      <td>0</td>\n",
       "      <td>34.0</td>\n",
       "      <td>2.0</td>\n",
       "      <td>148882.54</td>\n",
       "      <td>1.0</td>\n",
       "      <td>1.0</td>\n",
       "      <td>1.0</td>\n",
       "      <td>84560.88</td>\n",
       "      <td>0.0</td>\n",
       "      <td>1</td>\n",
       "      <td>0</td>\n",
       "      <td>0</td>\n",
       "    </tr>\n",
       "    <tr>\n",
       "      <th>4</th>\n",
       "      <td>716.0</td>\n",
       "      <td>0</td>\n",
       "      <td>33.0</td>\n",
       "      <td>5.0</td>\n",
       "      <td>0.00</td>\n",
       "      <td>2.0</td>\n",
       "      <td>1.0</td>\n",
       "      <td>1.0</td>\n",
       "      <td>15068.83</td>\n",
       "      <td>0.0</td>\n",
       "      <td>0</td>\n",
       "      <td>0</td>\n",
       "      <td>1</td>\n",
       "    </tr>\n",
       "  </tbody>\n",
       "</table>\n",
       "</div>"
      ],
      "text/plain": [
       "\n",
       "   CreditScore  Gender   Age  Tenure    Balance  NumOfProducts  HasCrCard  \\\n",
       "\u001b[1;36m0\u001b[0m        \u001b[1;36m668.0\u001b[0m       \u001b[1;36m0\u001b[0m  \u001b[1;36m33.0\u001b[0m     \u001b[1;36m3.0\u001b[0m       \u001b[1;36m0.00\u001b[0m            \u001b[1;36m2.0\u001b[0m        \u001b[1;36m1.0\u001b[0m   \n",
       "\u001b[1;36m1\u001b[0m        \u001b[1;36m627.0\u001b[0m       \u001b[1;36m0\u001b[0m  \u001b[1;36m33.0\u001b[0m     \u001b[1;36m1.0\u001b[0m       \u001b[1;36m0.00\u001b[0m            \u001b[1;36m2.0\u001b[0m        \u001b[1;36m1.0\u001b[0m   \n",
       "\u001b[1;36m2\u001b[0m        \u001b[1;36m678.0\u001b[0m       \u001b[1;36m0\u001b[0m  \u001b[1;36m40.0\u001b[0m    \u001b[1;36m10.0\u001b[0m       \u001b[1;36m0.00\u001b[0m            \u001b[1;36m2.0\u001b[0m        \u001b[1;36m1.0\u001b[0m   \n",
       "\u001b[1;36m3\u001b[0m        \u001b[1;36m581.0\u001b[0m       \u001b[1;36m0\u001b[0m  \u001b[1;36m34.0\u001b[0m     \u001b[1;36m2.0\u001b[0m  \u001b[1;36m148882.54\u001b[0m            \u001b[1;36m1.0\u001b[0m        \u001b[1;36m1.0\u001b[0m   \n",
       "\u001b[1;36m4\u001b[0m        \u001b[1;36m716.0\u001b[0m       \u001b[1;36m0\u001b[0m  \u001b[1;36m33.0\u001b[0m     \u001b[1;36m5.0\u001b[0m       \u001b[1;36m0.00\u001b[0m            \u001b[1;36m2.0\u001b[0m        \u001b[1;36m1.0\u001b[0m   \n",
       "\n",
       "   IsActiveMember  EstimatedSalary  Exited  Geography_France  \\\n",
       "\u001b[1;36m0\u001b[0m             \u001b[1;36m0.0\u001b[0m        \u001b[1;36m181449.97\u001b[0m     \u001b[1;36m0.0\u001b[0m                 \u001b[1;36m1\u001b[0m   \n",
       "\u001b[1;36m1\u001b[0m             \u001b[1;36m1.0\u001b[0m         \u001b[1;36m49503.50\u001b[0m     \u001b[1;36m0.0\u001b[0m                 \u001b[1;36m1\u001b[0m   \n",
       "\u001b[1;36m2\u001b[0m             \u001b[1;36m0.0\u001b[0m        \u001b[1;36m184866.69\u001b[0m     \u001b[1;36m0.0\u001b[0m                 \u001b[1;36m1\u001b[0m   \n",
       "\u001b[1;36m3\u001b[0m             \u001b[1;36m1.0\u001b[0m         \u001b[1;36m84560.88\u001b[0m     \u001b[1;36m0.0\u001b[0m                 \u001b[1;36m1\u001b[0m   \n",
       "\u001b[1;36m4\u001b[0m             \u001b[1;36m1.0\u001b[0m         \u001b[1;36m15068.83\u001b[0m     \u001b[1;36m0.0\u001b[0m                 \u001b[1;36m0\u001b[0m   \n",
       "\n",
       "   Geography_Germany  Geography_Spain  \n",
       "\u001b[1;36m0\u001b[0m                  \u001b[1;36m0\u001b[0m                \u001b[1;36m0\u001b[0m  \n",
       "\u001b[1;36m1\u001b[0m                  \u001b[1;36m0\u001b[0m                \u001b[1;36m0\u001b[0m  \n",
       "\u001b[1;36m2\u001b[0m                  \u001b[1;36m0\u001b[0m                \u001b[1;36m0\u001b[0m  \n",
       "\u001b[1;36m3\u001b[0m                  \u001b[1;36m0\u001b[0m                \u001b[1;36m0\u001b[0m  \n",
       "\u001b[1;36m4\u001b[0m                  \u001b[1;36m0\u001b[0m                \u001b[1;36m1\u001b[0m  "
      ]
     },
     "execution_count": 3,
     "metadata": {},
     "output_type": "execute_result"
    }
   ],
   "source": [
    "df.head()"
   ]
  },
  {
   "cell_type": "code",
   "execution_count": 29,
   "metadata": {},
   "outputs": [],
   "source": [
    "import pandas as pd\n",
    "import typing as t\n",
    "from sklearn.model_selection import train_test_split\n",
    "def split_train(df: pd.DataFrame) -> t.Tuple:\n",
    "    X = df.copy()\n",
    "    y = X.pop('Exited')\n",
    "    X_train, X_test, y_train, y_test = train_test_split(X, y, test_size=0.3, random_state=2)\n",
    "    return X_train, X_test, y_train, y_test"
   ]
  },
  {
   "cell_type": "code",
   "execution_count": 30,
   "metadata": {},
   "outputs": [],
   "source": [
    "from imblearn.under_sampling import RandomUnderSampler\n",
    "\n",
    "# Make sampling strat and random_state as parameterized.\n",
    "def undersample_train(X_train: pd.DataFrame, y_train: pd.Series) -> t.Tuple:\n",
    "    undersampler = RandomUnderSampler(sampling_strategy='auto', random_state=46)\n",
    "    X_train, y_train = undersampler.fit_resample(X_train, y_train)\n",
    "    return X_train, y_train"
   ]
  },
  {
   "cell_type": "code",
   "execution_count": 31,
   "metadata": {},
   "outputs": [],
   "source": [
    "from sklearn.preprocessing import MinMaxScaler\n",
    "\n",
    "# Scale dataset appropriately. Parameterized the features to be scaled\n",
    "def scale_sets(X_train: pd.DataFrame, X_test: pd.DataFrame) -> t.Tuple: \n",
    "    scaler = MinMaxScaler()\n",
    "    X_train[['CreditScore', 'Balance', 'EstimatedSalary']] = scaler.fit_transform(X_train[['CreditScore', 'Balance', 'EstimatedSalary']])\n",
    "    X_test[['CreditScore', 'Balance', 'EstimatedSalary']] = scaler.transform(X_test[['CreditScore', 'Balance', 'EstimatedSalary']])\n",
    "    return X_train, X_test"
   ]
  },
  {
   "cell_type": "code",
   "execution_count": 32,
   "metadata": {},
   "outputs": [],
   "source": [
    "X_train, X_test, y_train, y_test = split_train(df)"
   ]
  },
  {
   "cell_type": "code",
   "execution_count": 33,
   "metadata": {},
   "outputs": [],
   "source": [
    "X_train, y_train=undersample_train(X_train, y_train)"
   ]
  },
  {
   "cell_type": "code",
   "execution_count": 34,
   "metadata": {},
   "outputs": [],
   "source": [
    "X_train, X_test = scale_sets(X_train, X_test)"
   ]
  },
  {
   "cell_type": "code",
   "execution_count": 35,
   "metadata": {},
   "outputs": [],
   "source": [
    "from sklearn.metrics import roc_auc_score, recall_score\n",
    "from lightgbm import LGBMClassifier\n",
    "\n",
    "# parameterized random_state for this model.\n",
    "def train_model(X_train: pd.DataFrame, y_train: pd.Series) -> LGBMClassifier:\n",
    "    lightgbm = LGBMClassifier(objective=\"binary\", random_state=1)\n",
    "    lightgbm.fit(X_train, y_train)\n",
    "    return lightgbm"
   ]
  },
  {
   "cell_type": "code",
   "execution_count": 49,
   "metadata": {},
   "outputs": [],
   "source": [
    "import logging\n",
    "logger = logging.getLogger(__name__)\n",
    "\n",
    "def evaluate_model(model: LGBMClassifier, X_test: pd.DataFrame, y_test: pd.Series):\n",
    "    y_pred = model.predict(X_test)\n",
    "    roc = roc_auc_score(y_test, y_pred)\n",
    "    recall = recall_score(y_test, y_pred)\n",
    "    logger.info(\"Model has a ROC AUC score of %.3f and Recall score of %.3f on test data.\", roc*100, recall*100)\n",
    "    print(roc)\n"
   ]
  },
  {
   "cell_type": "code",
   "execution_count": 47,
   "metadata": {},
   "outputs": [
    {
     "name": "stdout",
     "output_type": "stream",
     "text": [
      "[LightGBM] [Info] Number of positive: 24524, number of negative: 24524\n",
      "[LightGBM] [Info] Auto-choosing col-wise multi-threading, the overhead of testing was 0.003061 seconds.\n",
      "You can set `force_col_wise=true` to remove the overhead.\n",
      "[LightGBM] [Info] Total Bins 858\n",
      "[LightGBM] [Info] Number of data points in the train set: 49048, number of used features: 12\n",
      "[LightGBM] [Info] [binary:BoostFromScore]: pavg=0.500000 -> initscore=0.000000\n"
     ]
    }
   ],
   "source": [
    "model = train_model(X_train, y_train)"
   ]
  },
  {
   "cell_type": "code",
   "execution_count": 50,
   "metadata": {},
   "outputs": [
    {
     "name": "stdout",
     "output_type": "stream",
     "text": [
      "0.8057982435403158\n"
     ]
    }
   ],
   "source": [
    "evaluate_model(model, X_test, y_test)"
   ]
  },
  {
   "cell_type": "code",
   "execution_count": 51,
   "metadata": {},
   "outputs": [
    {
     "data": {
      "text/html": [
       "<pre style=\"white-space:pre;overflow-x:auto;line-height:normal;font-family:Menlo,'DejaVu Sans Mono',consolas,'Courier New',monospace\"></pre>\n"
      ],
      "text/plain": []
     },
     "metadata": {},
     "output_type": "display_data"
    },
    {
     "data": {
      "text/plain": [
       "\n",
       "\u001b[1;35mIndex\u001b[0m\u001b[1m(\u001b[0m\u001b[1m[\u001b[0m\u001b[32m'CreditScore'\u001b[0m, \u001b[32m'Gender'\u001b[0m, \u001b[32m'Age'\u001b[0m, \u001b[32m'Tenure'\u001b[0m, \u001b[32m'Balance'\u001b[0m, \u001b[32m'NumOfProducts'\u001b[0m,\n",
       "       \u001b[32m'HasCrCard'\u001b[0m, \u001b[32m'IsActiveMember'\u001b[0m, \u001b[32m'EstimatedSalary'\u001b[0m, \u001b[32m'Geography_France'\u001b[0m,\n",
       "       \u001b[32m'Geography_Germany'\u001b[0m, \u001b[32m'Geography_Spain'\u001b[0m\u001b[1m]\u001b[0m,\n",
       "      \u001b[33mdtype\u001b[0m=\u001b[32m'object'\u001b[0m\u001b[1m)\u001b[0m"
      ]
     },
     "execution_count": 51,
     "metadata": {},
     "output_type": "execute_result"
    }
   ],
   "source": [
    "X_train.columns"
   ]
  },
  {
   "cell_type": "code",
   "execution_count": null,
   "metadata": {},
   "outputs": [],
   "source": []
  }
 ],
 "metadata": {
  "kernelspec": {
   "display_name": ".venv",
   "language": "python",
   "name": "python3"
  },
  "language_info": {
   "codemirror_mode": {
    "name": "ipython",
    "version": 3
   },
   "file_extension": ".py",
   "mimetype": "text/x-python",
   "name": "python",
   "nbconvert_exporter": "python",
   "pygments_lexer": "ipython3",
   "version": "3.11.8"
  }
 },
 "nbformat": 4,
 "nbformat_minor": 2
}
